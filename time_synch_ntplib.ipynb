{
 "cells": [
  {
   "cell_type": "markdown",
   "metadata": {},
   "source": [
    "# Simple interface to query NTP servers from Python"
   ]
  },
  {
   "cell_type": "code",
   "execution_count": 1,
   "metadata": {},
   "outputs": [],
   "source": [
    "def is_computer_time_ok():\n",
    "    # Simple interface to query NTP servers from Python\n",
    "    # https://pypi.org/project/ntplib/\n",
    "    # !pip install ntplib\n",
    "    import ntplib\n",
    "    from time import ctime\n",
    "    c = ntplib.NTPClient()\n",
    "    response = c.request('europe.pool.ntp.org', version=3)\n",
    "    offset = response.offset\n",
    "    if abs(offset) > 5: # max time diffrence in seconds\n",
    "        print(\"Offset %s seconds. Set date/time to %s\" % (int(offset), ctime(response.tx_time)))\n",
    "        return False\n",
    "    return True\n"
   ]
  },
  {
   "cell_type": "code",
   "execution_count": 2,
   "metadata": {},
   "outputs": [
    {
     "name": "stdout",
     "output_type": "stream",
     "text": [
      "Offset 39 seconds. Set date/time to Wed Sep 26 12:18:25 2018\n",
      "False\n"
     ]
    }
   ],
   "source": [
    "print(is_computer_time_ok())"
   ]
  },
  {
   "cell_type": "raw",
   "metadata": {},
   "source": [
    ">>> import ntplib\n",
    ">>> from time import ctime\n",
    ">>> c = ntplib.NTPClient()\n",
    ">>> response = c.request('europe.pool.ntp.org', version=3)\n",
    ">>> response.offset\n",
    "-0.143156766891\n",
    ">>> response.version\n",
    "3\n",
    ">>> ctime(response.tx_time)\n",
    "'Sun May 17 09:32:48 2009'\n",
    ">>> ntplib.leap_to_text(response.leap)\n",
    "'no warning'\n",
    ">>> response.root_delay\n",
    "0.0046844482421875\n",
    ">>> ntplib.ref_id_to_text(response.ref_id)\n",
    "193.190.230.66"
   ]
  }
 ],
 "metadata": {
  "kernelspec": {
   "display_name": "Python 3",
   "language": "python",
   "name": "python3"
  },
  "language_info": {
   "codemirror_mode": {
    "name": "ipython",
    "version": 3
   },
   "file_extension": ".py",
   "mimetype": "text/x-python",
   "name": "python",
   "nbconvert_exporter": "python",
   "pygments_lexer": "ipython3",
   "version": "3.6.5"
  }
 },
 "nbformat": 4,
 "nbformat_minor": 2
}
